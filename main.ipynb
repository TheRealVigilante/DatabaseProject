{
 "cells": [
  {
   "cell_type": "markdown",
   "metadata": {},
   "source": [
    "# Setup"
   ]
  },
  {
   "cell_type": "code",
   "execution_count": 1,
   "metadata": {},
   "outputs": [],
   "source": [
    "import sqlite3"
   ]
  },
  {
   "cell_type": "code",
   "execution_count": 2,
   "metadata": {},
   "outputs": [],
   "source": [
    "conn = sqlite3.connect('university.db')\n",
    "cursor = conn.cursor()"
   ]
  },
  {
   "cell_type": "markdown",
   "metadata": {},
   "source": [
    "# DDL"
   ]
  },
  {
   "cell_type": "code",
   "execution_count": 3,
   "metadata": {},
   "outputs": [
    {
     "data": {
      "text/plain": [
       "<sqlite3.Cursor at 0x7c15d448cd40>"
      ]
     },
     "execution_count": 3,
     "metadata": {},
     "output_type": "execute_result"
    }
   ],
   "source": [
    "# Drop all the tables\n",
    "cursor.executescript('''\n",
    "DROP TABLE IF EXISTS Performance;\n",
    "DROP TABLE IF EXISTS Submissions;\n",
    "DROP TABLE IF EXISTS Assessments;\n",
    "DROP TABLE IF EXISTS Courses;\n",
    "DROP TABLE IF EXISTS Enrollment;\n",
    "DROP TABLE IF EXISTS Students;\n",
    "DROP TABLE IF EXISTS Instructors;\n",
    "DROP TABLE IF EXISTS Prerequisite;\n",
    "''')"
   ]
  },
  {
   "cell_type": "code",
   "execution_count": 4,
   "metadata": {},
   "outputs": [
    {
     "data": {
      "text/plain": [
       "<sqlite3.Cursor at 0x7c15d448cd40>"
      ]
     },
     "execution_count": 4,
     "metadata": {},
     "output_type": "execute_result"
    }
   ],
   "source": [
    "# Recreate the tables with foreign key constraints\n",
    "cursor.executescript('''\n",
    "-- Create Students table\n",
    "CREATE TABLE Students (\n",
    "    StudentID INTEGER PRIMARY KEY,\n",
    "    Username VARCHAR(50) NOT NULL UNIQUE,\n",
    "    Password VARCHAR(50) NOT NULL,\n",
    "    First_Name VARCHAR(50),\n",
    "    Last_Name VARCHAR(50),\n",
    "    EnrollmentDate DATE,\n",
    "    DateOfBirth DATE,\n",
    "    Email VARCHAR(100),\n",
    "    PhoneNumber VARCHAR(20),\n",
    "    Address VARCHAR(200)\n",
    ");\n",
    "\n",
    "-- Create Instructors table\n",
    "CREATE TABLE Instructors (\n",
    "    InstructorID INTEGER PRIMARY KEY,\n",
    "    Username VARCHAR(50) NOT NULL UNIQUE,\n",
    "    Password VARCHAR(50) NOT NULL,\n",
    "    First_Name VARCHAR(50),\n",
    "    Last_Name VARCHAR(50),\n",
    "    Email VARCHAR(100),\n",
    "    HireDate DATE,\n",
    "    PhoneNumber VARCHAR(20),\n",
    "    Specialization VARCHAR(100)\n",
    ");\n",
    "\n",
    "-- Create Prerequisite table\n",
    "CREATE TABLE Prerequisite (\n",
    "    PrerequisiteID INTEGER PRIMARY KEY,\n",
    "    NumberOfPrerequisite INTEGER,\n",
    "    Completed BOOLEAN\n",
    ");\n",
    "\n",
    "-- Create Courses table with foreign key references\n",
    "CREATE TABLE Courses (\n",
    "    CourseID INTEGER PRIMARY KEY,\n",
    "    CourseName VARCHAR(100),\n",
    "    Description TEXT,\n",
    "    MaxEnrollment INTEGER,\n",
    "    StartDate DATE,\n",
    "    EndDate DATE,\n",
    "    PrerequisiteID INTEGER,\n",
    "    InstructorID INTEGER,\n",
    "    FOREIGN KEY (PrerequisiteID) REFERENCES Prerequisite(PrerequisiteID),\n",
    "    FOREIGN KEY (InstructorID) REFERENCES Instructors(InstructorID)\n",
    ");\n",
    "\n",
    "-- Create Enrollment table with foreign key references\n",
    "CREATE TABLE Enrollment (\n",
    "    EnrollmentID INTEGER PRIMARY KEY,\n",
    "    EnrollmentDate DATE,\n",
    "    Status VARCHAR(50),\n",
    "    StudentID INTEGER,\n",
    "    CourseID INTEGER,\n",
    "    FOREIGN KEY (StudentID) REFERENCES Students(StudentID),\n",
    "    FOREIGN KEY (CourseID) REFERENCES Courses(CourseID)\n",
    ");\n",
    "\n",
    "-- Create Assessments table with foreign key references\n",
    "CREATE TABLE Assessments (\n",
    "    AssessmentID INTEGER PRIMARY KEY,\n",
    "    Title VARCHAR(100),\n",
    "    Type VARCHAR(50),\n",
    "    MaxScore INTEGER,\n",
    "    DueDate DATE,\n",
    "    CourseID INTEGER,\n",
    "    FOREIGN KEY (CourseID) REFERENCES Courses(CourseID)\n",
    ");\n",
    "\n",
    "-- Create Submissions table with foreign key references\n",
    "CREATE TABLE Submissions (\n",
    "    SubmissionID INTEGER PRIMARY KEY,\n",
    "    SubmissionDate DATE,\n",
    "    Feedback TEXT,\n",
    "    Score INTEGER,\n",
    "    StudentID INTEGER,\n",
    "    CourseID INTEGER,\n",
    "    AssessmentID INTEGER,\n",
    "    FOREIGN KEY (StudentID) REFERENCES Students(StudentID),\n",
    "    FOREIGN KEY (CourseID) REFERENCES Courses(CourseID),\n",
    "    FOREIGN KEY (AssessmentID) REFERENCES Assessments(AssessmentID)\n",
    ");\n",
    "\n",
    "-- Create Performance table with foreign key reference\n",
    "CREATE TABLE Performance (\n",
    "    PerformanceID INTEGER PRIMARY KEY,\n",
    "    TotalScore INTEGER,\n",
    "    Grade VARCHAR(2),\n",
    "    StudentID INTEGER,\n",
    "    FOREIGN KEY (StudentID) REFERENCES Students(StudentID)\n",
    ");\n",
    "''')\n"
   ]
  },
  {
   "cell_type": "code",
   "execution_count": 5,
   "metadata": {},
   "outputs": [
    {
     "name": "stdout",
     "output_type": "stream",
     "text": [
      "Data populated successfully!\n"
     ]
    }
   ],
   "source": [
    "# Insert data into the tables\n",
    "cursor.executescript('''\n",
    "-- Insert data into Students\n",
    "INSERT INTO Students (StudentID, Username, Password, First_Name, Last_Name, EnrollmentDate, DateOfBirth, Email, PhoneNumber, Address)\n",
    "VALUES\n",
    "(1, 'ahmad123', 'pass123', 'Ahmad', 'Al-Faisal', '2023-09-01', '2002-05-15', 'ahmad.faisal@gmail.com', '0551234567', 'Riyadh, Saudi Arabia'),\n",
    "(2, 'layla89', 'layla789', 'Layla', 'Al-Zahrani', '2023-09-01', '2001-08-22', 'layla.zahrani@gmail.com', '0547654321', 'Jeddah, Saudi Arabia'),\n",
    "(3, 'omar456', 'omar456', 'Omar', 'Al-Harbi', '2023-09-01', '2003-01-05', 'omar.harbi@gmail.com', '0568765432', 'Dammam, Saudi Arabia'),\n",
    "(4, 'sara101', 'sara101', 'Sara', 'Al-Qahtani', '2023-09-01', '2002-11-30', 'sara.qahtani@gmail.com', '0559876543', 'Abha, Saudi Arabia'),\n",
    "(5, 'yousef77', 'yousef777', 'Yousef', 'Al-Subaie', '2023-09-01', '2000-04-18', 'yousef.subaie@gmail.com', '0543219876', 'Medina, Saudi Arabia');\n",
    "\n",
    "-- Insert data into Instructors\n",
    "INSERT INTO Instructors (InstructorID, Username, Password, First_Name, Last_Name, Email, HireDate, PhoneNumber, Specialization)\n",
    "VALUES\n",
    "(1, 'drhassan', 'drhassan123', 'Hassan', 'Al-Omari', 'hassan.omari@gmail.com', '2015-09-01', '0561239874', 'Artificial Intelligence'),\n",
    "(2, 'drsanaa', 'sanaa2024', 'Sanaa', 'Al-Shammari', 'sanaa.shammari@gmail.com', '2017-01-15', '0546543210', 'Cybersecurity'),\n",
    "(3, 'drnoura', 'noura2024', 'Noura', 'Al-Saadi', 'noura.saadi@gmail.com', '2020-03-01', '0559874563', 'Data Science'),\n",
    "(4, 'drali', 'ali2024', 'Ali', 'Al-Bakri', 'ali.bakri@gmail.com', '2010-05-10', '0537896541', 'Software Engineering'),\n",
    "(5, 'drsalem', 'salem2024', 'Salem', 'Al-Hazmi', 'salem.hazmi@gmail.com', '2012-07-21', '0548761230', 'Machine Learning');\n",
    "\n",
    "-- Insert data into Prerequisite\n",
    "INSERT INTO Prerequisite (PrerequisiteID, NumberOfPrerequisite, Completed)\n",
    "VALUES\n",
    "(1, 2, 1),\n",
    "(2, 1, 1),\n",
    "(3, 3, 0),\n",
    "(4, 1, 0),\n",
    "(5, 0, 1);\n",
    "\n",
    "-- Insert data into Courses\n",
    "INSERT INTO Courses (CourseID, CourseName, Description, MaxEnrollment, StartDate, EndDate, PrerequisiteID, InstructorID)\n",
    "VALUES\n",
    "(1, 'Introduction to AI', 'Learn the basics of AI', 50, '2024-01-01', '2024-06-01', 1, 1),\n",
    "(2, 'Cybersecurity Basics', 'Understand cybersecurity concepts', 40, '2024-02-01', '2024-07-01', 2, 2),\n",
    "(3, 'Data Science Fundamentals', 'Foundations of data science', 30, '2024-03-01', '2024-08-01', 3, 3),\n",
    "(4, 'Advanced Python', 'Python programming for advanced users', 25, '2024-01-15', '2024-05-15', NULL, 4),\n",
    "(5, 'Machine Learning Essentials', 'Basics of ML techniques', 35, '2024-04-01', '2024-09-01', 4, 5);\n",
    "\n",
    "-- Insert data into Enrollment\n",
    "INSERT INTO Enrollment (EnrollmentID, EnrollmentDate, Status, StudentID, CourseID)\n",
    "VALUES\n",
    "(1, '2024-01-05', 'Active', 1, 1),\n",
    "(2, '2024-01-05', 'Completed', 2, 2),\n",
    "(3, '2024-01-10', 'Active', 3, 3),\n",
    "(4, '2024-01-15', 'Dropped', 4, 4),\n",
    "(5, '2024-01-20', 'Completed', 5, 5);\n",
    "\n",
    "-- Insert data into Assessments\n",
    "INSERT INTO Assessments (AssessmentID, Title, Type, MaxScore, DueDate, CourseID)\n",
    "VALUES\n",
    "(1, 'AI Quiz 1', 'Quiz', 20, '2024-02-15', 1),\n",
    "(2, 'Cybersecurity Midterm', 'Exam', 50, '2024-04-01', 2),\n",
    "(3, 'Data Science Assignment 1', 'Assignment', 30, '2024-03-20', 3),\n",
    "(4, 'Python Coding Challenge', 'Assignment', 40, '2024-05-01', 4),\n",
    "(5, 'Machine Learning Final', 'Exam', 100, '2024-09-01', 5);\n",
    "\n",
    "-- Insert data into Submissions\n",
    "INSERT INTO Submissions (SubmissionID, SubmissionDate, Feedback, Score, StudentID, CourseID, AssessmentID)\n",
    "VALUES\n",
    "(1, '2024-02-16', 'Good work!', 18, 1, 1, 1),\n",
    "(2, '2024-04-02', 'Needs improvement', 35, 2, 2, 2),\n",
    "(3, '2024-03-21', 'Excellent', 28, 3, 3, 3),\n",
    "(4, '2024-05-02', 'Well done', 37, 4, 4, 4),\n",
    "(5, '2024-09-02', 'Outstanding', 95, 5, 5, 5);\n",
    "\n",
    "-- Insert data into Performance\n",
    "INSERT INTO Performance (PerformanceID, TotalScore, Grade, StudentID)\n",
    "VALUES\n",
    "(1, 85, 'A', 1),\n",
    "(2, 70, 'B', 2),\n",
    "(3, 90, 'A', 3),\n",
    "(4, 65, 'C', 4),\n",
    "(5, 95, 'A', 5);\n",
    "''')\n",
    "\n",
    "print(\"Data populated successfully!\")\n"
   ]
  },
  {
   "cell_type": "markdown",
   "metadata": {},
   "source": [
    "# DML"
   ]
  },
  {
   "cell_type": "markdown",
   "metadata": {},
   "source": [
    "## Select all"
   ]
  },
  {
   "cell_type": "code",
   "execution_count": 6,
   "metadata": {},
   "outputs": [
    {
     "name": "stdout",
     "output_type": "stream",
     "text": [
      "\n",
      "Students:\n",
      "(1, 'ahmad123', 'pass123', 'Ahmad', 'Al-Faisal', '2023-09-01', '2002-05-15', 'ahmad.faisal@gmail.com', '0551234567', 'Riyadh, Saudi Arabia')\n",
      "(2, 'layla89', 'layla789', 'Layla', 'Al-Zahrani', '2023-09-01', '2001-08-22', 'layla.zahrani@gmail.com', '0547654321', 'Jeddah, Saudi Arabia')\n",
      "(3, 'omar456', 'omar456', 'Omar', 'Al-Harbi', '2023-09-01', '2003-01-05', 'omar.harbi@gmail.com', '0568765432', 'Dammam, Saudi Arabia')\n",
      "(4, 'sara101', 'sara101', 'Sara', 'Al-Qahtani', '2023-09-01', '2002-11-30', 'sara.qahtani@gmail.com', '0559876543', 'Abha, Saudi Arabia')\n",
      "(5, 'yousef77', 'yousef777', 'Yousef', 'Al-Subaie', '2023-09-01', '2000-04-18', 'yousef.subaie@gmail.com', '0543219876', 'Medina, Saudi Arabia')\n"
     ]
    }
   ],
   "source": [
    "cursor.execute(\"SELECT * FROM Students\")\n",
    "students_data = cursor.fetchall()\n",
    "print(\"\\nStudents:\")\n",
    "for student in students_data:\n",
    "    print(student)"
   ]
  },
  {
   "cell_type": "code",
   "execution_count": 7,
   "metadata": {},
   "outputs": [
    {
     "name": "stdout",
     "output_type": "stream",
     "text": [
      "\n",
      "Instructors:\n",
      "(1, 'drhassan', 'drhassan123', 'Hassan', 'Al-Omari', 'hassan.omari@gmail.com', '2015-09-01', '0561239874', 'Artificial Intelligence')\n",
      "(2, 'drsanaa', 'sanaa2024', 'Sanaa', 'Al-Shammari', 'sanaa.shammari@gmail.com', '2017-01-15', '0546543210', 'Cybersecurity')\n",
      "(3, 'drnoura', 'noura2024', 'Noura', 'Al-Saadi', 'noura.saadi@gmail.com', '2020-03-01', '0559874563', 'Data Science')\n",
      "(4, 'drali', 'ali2024', 'Ali', 'Al-Bakri', 'ali.bakri@gmail.com', '2010-05-10', '0537896541', 'Software Engineering')\n",
      "(5, 'drsalem', 'salem2024', 'Salem', 'Al-Hazmi', 'salem.hazmi@gmail.com', '2012-07-21', '0548761230', 'Machine Learning')\n"
     ]
    }
   ],
   "source": [
    "cursor.execute(\"SELECT * FROM Instructors\")\n",
    "instructors_data = cursor.fetchall()\n",
    "print(\"\\nInstructors:\")\n",
    "for instructor in instructors_data:\n",
    "    print(instructor)"
   ]
  },
  {
   "cell_type": "code",
   "execution_count": 8,
   "metadata": {},
   "outputs": [
    {
     "name": "stdout",
     "output_type": "stream",
     "text": [
      "\n",
      "Courses:\n",
      "(1, 'Introduction to AI', 'Learn the basics of AI', 50, '2024-01-01', '2024-06-01', 1, 1)\n",
      "(2, 'Cybersecurity Basics', 'Understand cybersecurity concepts', 40, '2024-02-01', '2024-07-01', 2, 2)\n",
      "(3, 'Data Science Fundamentals', 'Foundations of data science', 30, '2024-03-01', '2024-08-01', 3, 3)\n",
      "(4, 'Advanced Python', 'Python programming for advanced users', 25, '2024-01-15', '2024-05-15', None, 4)\n",
      "(5, 'Machine Learning Essentials', 'Basics of ML techniques', 35, '2024-04-01', '2024-09-01', 4, 5)\n"
     ]
    }
   ],
   "source": [
    "cursor.execute(\"SELECT * FROM Courses\")\n",
    "courses_data = cursor.fetchall()\n",
    "print(\"\\nCourses:\")\n",
    "for course in courses_data:\n",
    "    print(course)"
   ]
  },
  {
   "cell_type": "code",
   "execution_count": 9,
   "metadata": {},
   "outputs": [
    {
     "name": "stdout",
     "output_type": "stream",
     "text": [
      "\n",
      "Prerequisites:\n",
      "(1, 2, 1)\n",
      "(2, 1, 1)\n",
      "(3, 3, 0)\n",
      "(4, 1, 0)\n",
      "(5, 0, 1)\n"
     ]
    }
   ],
   "source": [
    "cursor.execute(\"SELECT * FROM Prerequisite\")\n",
    "prerequisite_data = cursor.fetchall()\n",
    "print(\"\\nPrerequisites:\")\n",
    "for prerequisite in prerequisite_data:\n",
    "    print(prerequisite)"
   ]
  },
  {
   "cell_type": "code",
   "execution_count": 10,
   "metadata": {},
   "outputs": [
    {
     "name": "stdout",
     "output_type": "stream",
     "text": [
      "\n",
      "Enrollment:\n",
      "(1, '2024-01-05', 'Active', 1, 1)\n",
      "(2, '2024-01-05', 'Completed', 2, 2)\n",
      "(3, '2024-01-10', 'Active', 3, 3)\n",
      "(4, '2024-01-15', 'Dropped', 4, 4)\n",
      "(5, '2024-01-20', 'Completed', 5, 5)\n"
     ]
    }
   ],
   "source": [
    "cursor.execute(\"SELECT * FROM Enrollment\")\n",
    "enrollment_data = cursor.fetchall()\n",
    "print(\"\\nEnrollment:\")\n",
    "for enrollment in enrollment_data:\n",
    "    print(enrollment)"
   ]
  },
  {
   "cell_type": "code",
   "execution_count": 11,
   "metadata": {},
   "outputs": [
    {
     "name": "stdout",
     "output_type": "stream",
     "text": [
      "\n",
      "Assessments:\n",
      "(1, 'AI Quiz 1', 'Quiz', 20, '2024-02-15', 1)\n",
      "(2, 'Cybersecurity Midterm', 'Exam', 50, '2024-04-01', 2)\n",
      "(3, 'Data Science Assignment 1', 'Assignment', 30, '2024-03-20', 3)\n",
      "(4, 'Python Coding Challenge', 'Assignment', 40, '2024-05-01', 4)\n",
      "(5, 'Machine Learning Final', 'Exam', 100, '2024-09-01', 5)\n"
     ]
    }
   ],
   "source": [
    "cursor.execute(\"SELECT * FROM Assessments\")\n",
    "assessments_data = cursor.fetchall()\n",
    "print(\"\\nAssessments:\")\n",
    "for assessment in assessments_data:\n",
    "    print(assessment)"
   ]
  },
  {
   "cell_type": "code",
   "execution_count": 12,
   "metadata": {},
   "outputs": [
    {
     "name": "stdout",
     "output_type": "stream",
     "text": [
      "\n",
      "Submissions:\n",
      "(1, '2024-02-16', 'Good work!', 18, 1, 1, 1)\n",
      "(2, '2024-04-02', 'Needs improvement', 35, 2, 2, 2)\n",
      "(3, '2024-03-21', 'Excellent', 28, 3, 3, 3)\n",
      "(4, '2024-05-02', 'Well done', 37, 4, 4, 4)\n",
      "(5, '2024-09-02', 'Outstanding', 95, 5, 5, 5)\n"
     ]
    }
   ],
   "source": [
    "cursor.execute(\"SELECT * FROM Submissions\")\n",
    "submissions_data = cursor.fetchall()\n",
    "print(\"\\nSubmissions:\")\n",
    "for submission in submissions_data:\n",
    "    print(submission)"
   ]
  },
  {
   "cell_type": "code",
   "execution_count": 13,
   "metadata": {},
   "outputs": [
    {
     "name": "stdout",
     "output_type": "stream",
     "text": [
      "\n",
      "Performance:\n",
      "(1, 85, 'A', 1)\n",
      "(2, 70, 'B', 2)\n",
      "(3, 90, 'A', 3)\n",
      "(4, 65, 'C', 4)\n",
      "(5, 95, 'A', 5)\n"
     ]
    }
   ],
   "source": [
    "cursor.execute(\"SELECT * FROM Performance\")\n",
    "performance_data = cursor.fetchall()\n",
    "print(\"\\nPerformance:\")\n",
    "for performance in performance_data:\n",
    "    print(performance)"
   ]
  },
  {
   "cell_type": "markdown",
   "metadata": {},
   "source": [
    "## Queries Per table"
   ]
  },
  {
   "cell_type": "markdown",
   "metadata": {},
   "source": [
    "### Students"
   ]
  },
  {
   "cell_type": "code",
   "execution_count": 14,
   "metadata": {},
   "outputs": [
    {
     "name": "stdout",
     "output_type": "stream",
     "text": [
      "\n",
      "Students whose first name starts with 'A':\n",
      "(1, 'ahmad123', 'pass123', 'Ahmad', 'Al-Faisal', '2023-09-01', '2002-05-15', 'ahmad.faisal@gmail.com', '0551234567', 'Riyadh, Saudi Arabia')\n"
     ]
    }
   ],
   "source": [
    "# 1. Get all students whose first name starts with 'A' using LIKE\n",
    "cursor.execute(\"SELECT * FROM Students WHERE First_Name LIKE 'A%'\")\n",
    "students_starting_with_A = cursor.fetchall()\n",
    "print(\"\\nStudents whose first name starts with 'A':\")\n",
    "for student in students_starting_with_A:\n",
    "    print(student)"
   ]
  },
  {
   "cell_type": "code",
   "execution_count": 15,
   "metadata": {},
   "outputs": [
    {
     "name": "stdout",
     "output_type": "stream",
     "text": [
      "\n",
      "Students born between 2000 and 2002:\n",
      "(1, 'ahmad123', 'pass123', 'Ahmad', 'Al-Faisal', '2023-09-01', '2002-05-15', 'ahmad.faisal@gmail.com', '0551234567', 'Riyadh, Saudi Arabia')\n",
      "(2, 'layla89', 'layla789', 'Layla', 'Al-Zahrani', '2023-09-01', '2001-08-22', 'layla.zahrani@gmail.com', '0547654321', 'Jeddah, Saudi Arabia')\n",
      "(4, 'sara101', 'sara101', 'Sara', 'Al-Qahtani', '2023-09-01', '2002-11-30', 'sara.qahtani@gmail.com', '0559876543', 'Abha, Saudi Arabia')\n",
      "(5, 'yousef77', 'yousef777', 'Yousef', 'Al-Subaie', '2023-09-01', '2000-04-18', 'yousef.subaie@gmail.com', '0543219876', 'Medina, Saudi Arabia')\n"
     ]
    }
   ],
   "source": [
    "# 2. Retrieve students born between 2000 and 2002 using BETWEEN\n",
    "cursor.execute(\"SELECT * FROM Students WHERE DateOfBirth BETWEEN '2000-01-01' AND '2002-12-31'\")\n",
    "students_born_between_2000_2002 = cursor.fetchall()\n",
    "print(\"\\nStudents born between 2000 and 2002:\")\n",
    "for student in students_born_between_2000_2002:\n",
    "    print(student)"
   ]
  },
  {
   "cell_type": "code",
   "execution_count": 16,
   "metadata": {},
   "outputs": [
    {
     "name": "stdout",
     "output_type": "stream",
     "text": [
      "\n",
      "Distinct cities of students:\n",
      "('Riyadh, Saudi Arabia',)\n",
      "('Jeddah, Saudi Arabia',)\n",
      "('Dammam, Saudi Arabia',)\n",
      "('Abha, Saudi Arabia',)\n",
      "('Medina, Saudi Arabia',)\n"
     ]
    }
   ],
   "source": [
    "# 3. Retrieve distinct cities of students using DISTINCT\n",
    "cursor.execute(\"SELECT DISTINCT Address FROM Students\")\n",
    "distinct_student_addresses = cursor.fetchall()\n",
    "print(\"\\nDistinct cities of students:\")\n",
    "for address in distinct_student_addresses:\n",
    "    print(address)"
   ]
  },
  {
   "cell_type": "code",
   "execution_count": 17,
   "metadata": {},
   "outputs": [
    {
     "name": "stdout",
     "output_type": "stream",
     "text": [
      "\n",
      "Students whose username contains '123' or '101':\n",
      "(1, 'ahmad123', 'pass123', 'Ahmad', 'Al-Faisal', '2023-09-01', '2002-05-15', 'ahmad.faisal@gmail.com', '0551234567', 'Riyadh, Saudi Arabia')\n",
      "(4, 'sara101', 'sara101', 'Sara', 'Al-Qahtani', '2023-09-01', '2002-11-30', 'sara.qahtani@gmail.com', '0559876543', 'Abha, Saudi Arabia')\n"
     ]
    }
   ],
   "source": [
    "# 4. Retrieve students whose username contains '123' or '101' using OR\n",
    "cursor.execute(\"SELECT * FROM Students WHERE Username LIKE '%123%' OR Username LIKE '%101%'\")\n",
    "students_with_username_123_or_101 = cursor.fetchall()\n",
    "print(\"\\nStudents whose username contains '123' or '101':\")\n",
    "for student in students_with_username_123_or_101:\n",
    "    print(student)"
   ]
  },
  {
   "cell_type": "code",
   "execution_count": 18,
   "metadata": {},
   "outputs": [
    {
     "name": "stdout",
     "output_type": "stream",
     "text": [
      "\n",
      "Students sorted by enrollment date in ascending order:\n",
      "(1, 'ahmad123', 'pass123', 'Ahmad', 'Al-Faisal', '2023-09-01', '2002-05-15', 'ahmad.faisal@gmail.com', '0551234567', 'Riyadh, Saudi Arabia')\n",
      "(2, 'layla89', 'layla789', 'Layla', 'Al-Zahrani', '2023-09-01', '2001-08-22', 'layla.zahrani@gmail.com', '0547654321', 'Jeddah, Saudi Arabia')\n",
      "(3, 'omar456', 'omar456', 'Omar', 'Al-Harbi', '2023-09-01', '2003-01-05', 'omar.harbi@gmail.com', '0568765432', 'Dammam, Saudi Arabia')\n",
      "(4, 'sara101', 'sara101', 'Sara', 'Al-Qahtani', '2023-09-01', '2002-11-30', 'sara.qahtani@gmail.com', '0559876543', 'Abha, Saudi Arabia')\n",
      "(5, 'yousef77', 'yousef777', 'Yousef', 'Al-Subaie', '2023-09-01', '2000-04-18', 'yousef.subaie@gmail.com', '0543219876', 'Medina, Saudi Arabia')\n"
     ]
    }
   ],
   "source": [
    "# 5. Retrieve student data sorted by enrollment date in descending order\n",
    "cursor.execute(\"SELECT * FROM Students ORDER BY EnrollmentDate ASC\")\n",
    "students_sorted_by_enrollment_date = cursor.fetchall()\n",
    "print(\"\\nStudents sorted by enrollment date in ascending order:\")\n",
    "for student in students_sorted_by_enrollment_date:\n",
    "    print(student)"
   ]
  },
  {
   "cell_type": "code",
   "execution_count": 19,
   "metadata": {},
   "outputs": [
    {
     "name": "stdout",
     "output_type": "stream",
     "text": [
      "\n",
      "Total Students: 5\n",
      "\n",
      "Youngest Student's Date of Birth: 2000-04-18\n"
     ]
    }
   ],
   "source": [
    "# Aggregate Functions\n",
    "# a. Count total students\n",
    "cursor.execute(\"SELECT COUNT(*) AS Total_Students FROM Students\")\n",
    "total_students = cursor.fetchone()\n",
    "print(\"\\nTotal Students:\", total_students[0])\n",
    "\n",
    "\n",
    "# b. Find the youngest student's date of birth\n",
    "cursor.execute(\"SELECT MIN(DateOfBirth) AS Youngest_Student FROM Students\")\n",
    "youngest_student = cursor.fetchone()\n",
    "print(\"\\nYoungest Student's Date of Birth:\", youngest_student[0])\n"
   ]
  },
  {
   "cell_type": "markdown",
   "metadata": {},
   "source": [
    "### Instructors"
   ]
  },
  {
   "cell_type": "code",
   "execution_count": 20,
   "metadata": {},
   "outputs": [
    {
     "name": "stdout",
     "output_type": "stream",
     "text": [
      "\n",
      "Instructors hired after 2015:\n",
      "(1, 'drhassan', 'drhassan123', 'Hassan', 'Al-Omari', 'hassan.omari@gmail.com', '2015-09-01', '0561239874', 'Artificial Intelligence')\n",
      "(2, 'drsanaa', 'sanaa2024', 'Sanaa', 'Al-Shammari', 'sanaa.shammari@gmail.com', '2017-01-15', '0546543210', 'Cybersecurity')\n",
      "(3, 'drnoura', 'noura2024', 'Noura', 'Al-Saadi', 'noura.saadi@gmail.com', '2020-03-01', '0559874563', 'Data Science')\n"
     ]
    }
   ],
   "source": [
    "# 1. Get instructors hired after 2015 using WHERE\n",
    "cursor.execute(\"SELECT * FROM Instructors WHERE HireDate > '2015-01-01'\")\n",
    "instructors_hired_after_2015 = cursor.fetchall()\n",
    "print(\"\\nInstructors hired after 2015:\")\n",
    "for instructor in instructors_hired_after_2015:\n",
    "    print(instructor)"
   ]
  },
  {
   "cell_type": "code",
   "execution_count": 21,
   "metadata": {},
   "outputs": [
    {
     "name": "stdout",
     "output_type": "stream",
     "text": [
      "\n",
      "Instructors whose specialization includes 'Cybersecurity':\n",
      "(2, 'drsanaa', 'sanaa2024', 'Sanaa', 'Al-Shammari', 'sanaa.shammari@gmail.com', '2017-01-15', '0546543210', 'Cybersecurity')\n"
     ]
    }
   ],
   "source": [
    "# 2. Retrieve all instructors whose specialization includes 'Cybersecurity' using = operator\n",
    "cursor.execute(\"SELECT * FROM Instructors WHERE Specialization = 'Cybersecurity'\")\n",
    "instructors_with_CS_specialization = cursor.fetchall()\n",
    "print(\"\\nInstructors whose specialization includes 'Cybersecurity':\")\n",
    "for instructor in instructors_with_CS_specialization:\n",
    "    print(instructor)"
   ]
  },
  {
   "cell_type": "code",
   "execution_count": 22,
   "metadata": {},
   "outputs": [
    {
     "name": "stdout",
     "output_type": "stream",
     "text": [
      "\n",
      "Distinct specializations of instructors:\n",
      "('Artificial Intelligence',)\n",
      "('Cybersecurity',)\n",
      "('Data Science',)\n",
      "('Software Engineering',)\n",
      "('Machine Learning',)\n"
     ]
    }
   ],
   "source": [
    "# 3. Retrieve distinct specializations using DISTINCT\n",
    "cursor.execute(\"SELECT DISTINCT Specialization FROM Instructors\")\n",
    "distinct_instructor_specializations = cursor.fetchall()\n",
    "print(\"\\nDistinct specializations of instructors:\")\n",
    "for specialization in distinct_instructor_specializations:\n",
    "    print(specialization)"
   ]
  },
  {
   "cell_type": "code",
   "execution_count": 23,
   "metadata": {},
   "outputs": [
    {
     "name": "stdout",
     "output_type": "stream",
     "text": [
      "\n",
      "Instructors where email ends with '.com' and phone starts with '056':\n",
      "(1, 'drhassan', 'drhassan123', 'Hassan', 'Al-Omari', 'hassan.omari@gmail.com', '2015-09-01', '0561239874', 'Artificial Intelligence')\n"
     ]
    }
   ],
   "source": [
    "# 4. Retrieve instructors where email ends with '.com' and phone starts with '056'\n",
    "cursor.execute(\"SELECT * FROM Instructors WHERE Email LIKE '%.com' AND PhoneNumber LIKE '056%'\")\n",
    "instructors_email_com_phone_056 = cursor.fetchall()\n",
    "print(\"\\nInstructors where email ends with '.com' and phone starts with '056':\")\n",
    "for instructor in instructors_email_com_phone_056:\n",
    "    print(instructor)"
   ]
  },
  {
   "cell_type": "code",
   "execution_count": 24,
   "metadata": {},
   "outputs": [
    {
     "name": "stdout",
     "output_type": "stream",
     "text": [
      "\n",
      "Instructors sorted by specialization in descending order:\n",
      "(4, 'drali', 'ali2024', 'Ali', 'Al-Bakri', 'ali.bakri@gmail.com', '2010-05-10', '0537896541', 'Software Engineering')\n",
      "(5, 'drsalem', 'salem2024', 'Salem', 'Al-Hazmi', 'salem.hazmi@gmail.com', '2012-07-21', '0548761230', 'Machine Learning')\n",
      "(3, 'drnoura', 'noura2024', 'Noura', 'Al-Saadi', 'noura.saadi@gmail.com', '2020-03-01', '0559874563', 'Data Science')\n",
      "(2, 'drsanaa', 'sanaa2024', 'Sanaa', 'Al-Shammari', 'sanaa.shammari@gmail.com', '2017-01-15', '0546543210', 'Cybersecurity')\n",
      "(1, 'drhassan', 'drhassan123', 'Hassan', 'Al-Omari', 'hassan.omari@gmail.com', '2015-09-01', '0561239874', 'Artificial Intelligence')\n"
     ]
    }
   ],
   "source": [
    "# 5. Retrieve instructor data sorted by specialization in descending order\n",
    "cursor.execute(\"SELECT * FROM Instructors ORDER BY Specialization Desc\")\n",
    "instructors_sorted_by_specialization = cursor.fetchall()\n",
    "print(\"\\nInstructors sorted by specialization in descending order:\")\n",
    "for instructor in instructors_sorted_by_specialization:\n",
    "    print(instructor)"
   ]
  },
  {
   "cell_type": "code",
   "execution_count": 25,
   "metadata": {},
   "outputs": [
    {
     "name": "stdout",
     "output_type": "stream",
     "text": [
      "\n",
      "Total Instructors: 5\n",
      "\n",
      "Most Recent Hire Date: 2020-03-01\n"
     ]
    }
   ],
   "source": [
    "# Aggregate Functions\n",
    "# a. Count total instructors\n",
    "cursor.execute(\"SELECT COUNT(*) AS Total_Instructors FROM Instructors\")\n",
    "total_instructors = cursor.fetchone()\n",
    "print(\"\\nTotal Instructors:\", total_instructors[0])\n",
    "\n",
    "# b. Find the most recent hire date\n",
    "cursor.execute(\"SELECT MAX(HireDate) AS Latest_Hire_Date FROM Instructors\")\n",
    "latest_hire_date = cursor.fetchone()\n",
    "print(\"\\nMost Recent Hire Date:\", latest_hire_date[0])"
   ]
  },
  {
   "cell_type": "markdown",
   "metadata": {},
   "source": [
    "### Courses"
   ]
  },
  {
   "cell_type": "code",
   "execution_count": 26,
   "metadata": {},
   "outputs": [
    {
     "name": "stdout",
     "output_type": "stream",
     "text": [
      "\n",
      "Courses with a maximum enrollment greater than 30:\n",
      "(1, 'Introduction to AI', 'Learn the basics of AI', 50, '2024-01-01', '2024-06-01', 1, 1)\n",
      "(2, 'Cybersecurity Basics', 'Understand cybersecurity concepts', 40, '2024-02-01', '2024-07-01', 2, 2)\n",
      "(5, 'Machine Learning Essentials', 'Basics of ML techniques', 35, '2024-04-01', '2024-09-01', 4, 5)\n"
     ]
    }
   ],
   "source": [
    "# 1. Get courses with a maximum enrollment greater than 30 using WHERE\n",
    "cursor.execute(\"SELECT * FROM Courses WHERE MaxEnrollment > 30\")\n",
    "courses_max_enrollment_gt_30 = cursor.fetchall()\n",
    "print(\"\\nCourses with a maximum enrollment greater than 30:\")\n",
    "for course in courses_max_enrollment_gt_30:\n",
    "    print(course)"
   ]
  },
  {
   "cell_type": "code",
   "execution_count": 27,
   "metadata": {},
   "outputs": [
    {
     "name": "stdout",
     "output_type": "stream",
     "text": [
      "\n",
      "Courses taught by InstructorID 1:\n",
      "(1, 'Introduction to AI', 'Learn the basics of AI', 50, '2024-01-01', '2024-06-01', 1, 1)\n"
     ]
    }
   ],
   "source": [
    "# 2. Retrieve all courses taught by a specific instructor using InstructorID\n",
    "cursor.execute(\"SELECT * FROM Courses WHERE InstructorID = 1\")\n",
    "courses_by_instructor_1 = cursor.fetchall()\n",
    "print(\"\\nCourses taught by InstructorID 1:\")\n",
    "for course in courses_by_instructor_1:\n",
    "    print(course)"
   ]
  },
  {
   "cell_type": "code",
   "execution_count": 28,
   "metadata": {},
   "outputs": [
    {
     "name": "stdout",
     "output_type": "stream",
     "text": [
      "\n",
      "Courses where description contains 'AI' or 'Python':\n",
      "(1, 'Introduction to AI', 'Learn the basics of AI', 50, '2024-01-01', '2024-06-01', 1, 1)\n",
      "(4, 'Advanced Python', 'Python programming for advanced users', 25, '2024-01-15', '2024-05-15', None, 4)\n"
     ]
    }
   ],
   "source": [
    "# 3. Retrieve courses where the description contains 'AI' or 'Python' using OR\n",
    "cursor.execute(\"SELECT * FROM Courses WHERE Description LIKE '%AI%' OR Description LIKE '%Python%'\")\n",
    "courses_with_AI_or_Python_description = cursor.fetchall()\n",
    "print(\"\\nCourses where description contains 'AI' or 'Python':\")\n",
    "for course in courses_with_AI_or_Python_description:\n",
    "    print(course)"
   ]
  },
  {
   "cell_type": "code",
   "execution_count": 29,
   "metadata": {},
   "outputs": [
    {
     "name": "stdout",
     "output_type": "stream",
     "text": [
      "\n",
      "Courses that do not have a prerequisite:\n",
      "(4, 'Advanced Python', 'Python programming for advanced users', 25, '2024-01-15', '2024-05-15', None, 4)\n"
     ]
    }
   ],
   "source": [
    "# 4. Retrieve courses that do not have a prerequisite using IS NULL\n",
    "cursor.execute(\"SELECT * FROM Courses WHERE PrerequisiteID IS NULL\")\n",
    "courses_no_prerequisite = cursor.fetchall()\n",
    "print(\"\\nCourses that do not have a prerequisite:\")\n",
    "for course in courses_no_prerequisite:\n",
    "    print(course)"
   ]
  },
  {
   "cell_type": "code",
   "execution_count": 30,
   "metadata": {},
   "outputs": [
    {
     "name": "stdout",
     "output_type": "stream",
     "text": [
      "\n",
      "Courses sorted by start date in ascending order:\n",
      "(1, 'Introduction to AI', 'Learn the basics of AI', 50, '2024-01-01', '2024-06-01', 1, 1)\n",
      "(4, 'Advanced Python', 'Python programming for advanced users', 25, '2024-01-15', '2024-05-15', None, 4)\n",
      "(2, 'Cybersecurity Basics', 'Understand cybersecurity concepts', 40, '2024-02-01', '2024-07-01', 2, 2)\n",
      "(3, 'Data Science Fundamentals', 'Foundations of data science', 30, '2024-03-01', '2024-08-01', 3, 3)\n",
      "(5, 'Machine Learning Essentials', 'Basics of ML techniques', 35, '2024-04-01', '2024-09-01', 4, 5)\n"
     ]
    }
   ],
   "source": [
    "# 5. Retrieve courses sorted by start date in ascending order\n",
    "cursor.execute(\"SELECT * FROM Courses ORDER BY StartDate ASC\")\n",
    "courses_sorted_by_start_date = cursor.fetchall()\n",
    "print(\"\\nCourses sorted by start date in ascending order:\")\n",
    "for course in courses_sorted_by_start_date:\n",
    "    print(course)"
   ]
  },
  {
   "cell_type": "code",
   "execution_count": 31,
   "metadata": {},
   "outputs": [
    {
     "name": "stdout",
     "output_type": "stream",
     "text": [
      "\n",
      "Total Maximum Enrollment: 180\n",
      "\n",
      "Course with the Earliest Start Date: 2024-01-01\n"
     ]
    }
   ],
   "source": [
    "# Aggregate Functions\n",
    "# a. Find the total maximum enrollment across all courses\n",
    "cursor.execute(\"SELECT SUM(MaxEnrollment) AS Total_Enrollment FROM Courses\")\n",
    "total_enrollment = cursor.fetchone()\n",
    "print(\"\\nTotal Maximum Enrollment:\", total_enrollment[0])\n",
    "\n",
    "# b. Find the course with the earliest start date\n",
    "cursor.execute(\"SELECT MIN(StartDate) AS Earliest_Course FROM Courses\")\n",
    "earliest_course = cursor.fetchone()\n",
    "print(\"\\nCourse with the Earliest Start Date:\", earliest_course[0])"
   ]
  },
  {
   "cell_type": "markdown",
   "metadata": {},
   "source": [
    "## Joins"
   ]
  },
  {
   "cell_type": "code",
   "execution_count": 32,
   "metadata": {},
   "outputs": [
    {
     "name": "stdout",
     "output_type": "stream",
     "text": [
      "\n",
      "Inner Join Students and Enrollment:\n",
      "('Ahmad', 'Al-Faisal', 'Active', '2024-01-05')\n",
      "('Layla', 'Al-Zahrani', 'Completed', '2024-01-05')\n",
      "('Omar', 'Al-Harbi', 'Active', '2024-01-10')\n",
      "('Sara', 'Al-Qahtani', 'Dropped', '2024-01-15')\n",
      "('Yousef', 'Al-Subaie', 'Completed', '2024-01-20')\n"
     ]
    }
   ],
   "source": [
    "cursor.execute(\"\"\"\n",
    "    SELECT \n",
    "        Students.First_Name, Students.Last_Name, Enrollment.Status, Enrollment.EnrollmentDate\n",
    "    FROM \n",
    "        Students\n",
    "    INNER JOIN \n",
    "        Enrollment ON Students.StudentID = Enrollment.StudentID\n",
    "\"\"\")\n",
    "inner_join_students_enrollment = cursor.fetchall()\n",
    "print(\"\\nInner Join Students and Enrollment:\")\n",
    "for row in inner_join_students_enrollment:\n",
    "    print(row)"
   ]
  },
  {
   "cell_type": "code",
   "execution_count": 33,
   "metadata": {},
   "outputs": [
    {
     "name": "stdout",
     "output_type": "stream",
     "text": [
      "\n",
      "Left Outer Join Courses and Instructors:\n",
      "('Introduction to AI', 'Learn the basics of AI', 'Hassan', 'Al-Omari')\n",
      "('Cybersecurity Basics', 'Understand cybersecurity concepts', 'Sanaa', 'Al-Shammari')\n",
      "('Data Science Fundamentals', 'Foundations of data science', 'Noura', 'Al-Saadi')\n",
      "('Advanced Python', 'Python programming for advanced users', 'Ali', 'Al-Bakri')\n",
      "('Machine Learning Essentials', 'Basics of ML techniques', 'Salem', 'Al-Hazmi')\n"
     ]
    }
   ],
   "source": [
    "cursor.execute(\"\"\"\n",
    "    SELECT \n",
    "        Courses.CourseName, Courses.Description, Instructors.First_Name AS Instructor_FirstName, Instructors.Last_Name AS Instructor_LastName\n",
    "    FROM \n",
    "        Courses\n",
    "    LEFT JOIN \n",
    "        Instructors ON Courses.InstructorID = Instructors.InstructorID\n",
    "\"\"\")\n",
    "left_outer_join_courses_instructors = cursor.fetchall()\n",
    "print(\"\\nLeft Outer Join Courses and Instructors:\")\n",
    "for row in left_outer_join_courses_instructors:\n",
    "    print(row)"
   ]
  },
  {
   "cell_type": "code",
   "execution_count": 34,
   "metadata": {},
   "outputs": [
    {
     "name": "stdout",
     "output_type": "stream",
     "text": [
      "\n",
      "Simple Union: Students and Instructors:\n",
      "('Ahmad', 'Al-Faisal', 1)\n",
      "('Ali', 'Al-Bakri', 4)\n",
      "('Hassan', 'Al-Omari', 1)\n",
      "('Layla', 'Al-Zahrani', 2)\n",
      "('Noura', 'Al-Saadi', 3)\n",
      "('Omar', 'Al-Harbi', 3)\n",
      "('Salem', 'Al-Hazmi', 5)\n",
      "('Sanaa', 'Al-Shammari', 2)\n",
      "('Sara', 'Al-Qahtani', 4)\n",
      "('Yousef', 'Al-Subaie', 5)\n"
     ]
    }
   ],
   "source": [
    "# Union Between Students and Instructors\n",
    "cursor.execute(\"\"\"\n",
    "    SELECT \n",
    "        Students.First_Name, Students.Last_Name, Students.StudentID as ID\n",
    "    FROM \n",
    "        Students\n",
    "    UNION\n",
    "    SELECT \n",
    "        Instructors.First_Name, Instructors.Last_Name, Instructors.InstructorID as ID\n",
    "    FROM \n",
    "        Instructors\n",
    "\"\"\")\n",
    "union_students_instructors = cursor.fetchall()\n",
    "print(\"\\nSimple Union: Students and Instructors:\")\n",
    "for row in union_students_instructors:\n",
    "    print(row)\n"
   ]
  },
  {
   "cell_type": "markdown",
   "metadata": {},
   "source": [
    "## Views"
   ]
  },
  {
   "cell_type": "code",
   "execution_count": 36,
   "metadata": {},
   "outputs": [
    {
     "name": "stdout",
     "output_type": "stream",
     "text": [
      "\n",
      "Active Students View:\n",
      "('Ahmad', 'Al-Faisal', 'Active', 'Introduction to AI')\n",
      "('Omar', 'Al-Harbi', 'Active', 'Data Science Fundamentals')\n"
     ]
    }
   ],
   "source": [
    "# cursor.execute(\"\"\"\n",
    "#     CREATE VIEW Active_Students AS\n",
    "#     SELECT \n",
    "#         Students.First_Name, Students.Last_Name, Enrollment.Status, Courses.CourseName\n",
    "#     FROM \n",
    "#         Students\n",
    "#     JOIN \n",
    "#         Enrollment ON Students.StudentID = Enrollment.StudentID\n",
    "#     JOIN \n",
    "#         Courses ON Enrollment.CourseID = Courses.CourseID\n",
    "#     WHERE \n",
    "#         Enrollment.Status = 'Active'\n",
    "# \"\"\")\n",
    "cursor.execute(\"SELECT * FROM Active_Students\")\n",
    "active_students = cursor.fetchall()\n",
    "print(\"\\nActive Students View:\")\n",
    "for student in active_students:\n",
    "    print(student)"
   ]
  },
  {
   "cell_type": "code",
   "execution_count": 37,
   "metadata": {},
   "outputs": [
    {
     "name": "stdout",
     "output_type": "stream",
     "text": [
      "\n",
      "Students Not Enrolled in Any Course:\n",
      "[]\n"
     ]
    }
   ],
   "source": [
    "# View for Students Not Enrolled in Any Course\n",
    "# cursor.execute(\"\"\"\n",
    "#     CREATE VIEW Students_Not_Enrolled AS\n",
    "#     SELECT \n",
    "#         Students.First_Name, Students.Last_Name, Students.Username\n",
    "#     FROM \n",
    "#         Students\n",
    "#     LEFT JOIN \n",
    "#         Enrollment ON Students.StudentID = Enrollment.StudentID\n",
    "#     WHERE \n",
    "#         Enrollment.StudentID IS NULL\n",
    "# \"\"\")\n",
    "cursor.execute(\"SELECT * FROM Students_Not_Enrolled\")\n",
    "students_not_enrolled = cursor.fetchall()\n",
    "print(\"\\nStudents Not Enrolled in Any Course:\")\n",
    "print(students_not_enrolled)"
   ]
  },
  {
   "cell_type": "code",
   "execution_count": 38,
   "metadata": {},
   "outputs": [
    {
     "data": {
      "text/plain": [
       "<sqlite3.Cursor at 0x7c15d448cd40>"
      ]
     },
     "execution_count": 38,
     "metadata": {},
     "output_type": "execute_result"
    }
   ],
   "source": [
    "cursor.execute(\"DROP VIEW Total_Students_Per_Course\")"
   ]
  },
  {
   "cell_type": "code",
   "execution_count": 40,
   "metadata": {},
   "outputs": [
    {
     "name": "stdout",
     "output_type": "stream",
     "text": [
      "\n",
      "Total Students Per Course:\n",
      "('Advanced Python', 1)\n",
      "('Cybersecurity Basics', 1)\n",
      "('Data Science Fundamentals', 1)\n",
      "('Introduction to AI', 1)\n",
      "('Machine Learning Essentials', 1)\n"
     ]
    }
   ],
   "source": [
    "# Create a View for Total Students Enrolled in Each Course\n",
    "# cursor.execute(\"\"\"\n",
    "#     CREATE VIEW Total_Students_Per_Course AS\n",
    "#     SELECT \n",
    "#         Courses.CourseName,\n",
    "#         COUNT(Enrollment.StudentID) AS Total_Students\n",
    "#     FROM \n",
    "#         Courses\n",
    "#     LEFT JOIN \n",
    "#         Enrollment ON Courses.CourseID = Enrollment.CourseID\n",
    "#     GROUP BY \n",
    "#         Courses.CourseName\n",
    "# \"\"\")\n",
    "\n",
    "# Execute and fetch data from the newly created view\n",
    "cursor.execute(\"SELECT * FROM Total_Students_Per_Course\")\n",
    "total_students_per_course = cursor.fetchall()\n",
    "\n",
    "# Display the result\n",
    "print(\"\\nTotal Students Per Course:\")\n",
    "for course in total_students_per_course:\n",
    "    print(course)"
   ]
  },
  {
   "cell_type": "code",
   "execution_count": null,
   "metadata": {},
   "outputs": [],
   "source": []
  }
 ],
 "metadata": {
  "kernelspec": {
   "display_name": "AgrAIdea",
   "language": "python",
   "name": "python3"
  },
  "language_info": {
   "codemirror_mode": {
    "name": "ipython",
    "version": 3
   },
   "file_extension": ".py",
   "mimetype": "text/x-python",
   "name": "python",
   "nbconvert_exporter": "python",
   "pygments_lexer": "ipython3",
   "version": "3.11.10"
  }
 },
 "nbformat": 4,
 "nbformat_minor": 2
}
